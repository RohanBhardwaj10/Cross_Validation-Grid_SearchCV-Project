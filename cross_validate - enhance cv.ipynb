{
 "cells": [
  {
   "cell_type": "code",
   "execution_count": 1,
   "id": "e47a0cf4-29ef-4541-b1b9-79d5119c4bef",
   "metadata": {},
   "outputs": [],
   "source": [
    "import pandas as pd \n",
    "import numpy as np"
   ]
  },
  {
   "cell_type": "code",
   "execution_count": 2,
   "id": "75d95417-0c9e-4f1c-b024-acba8b43face",
   "metadata": {},
   "outputs": [],
   "source": [
    "df = pd.read_csv('Advertising.csv')\n",
    "x=df.drop('sales',axis=1)\n",
    "y=df['sales']\n",
    "from sklearn.model_selection import train_test_split\n",
    "x_train,x_test,y_train,y_test = train_test_split(x,y,test_size=0.3,random_state=101)\n",
    "from sklearn.preprocessing import StandardScaler\n",
    "scaler = StandardScaler()\n",
    "scaler.fit(x_train)\n",
    "x_train=scaler.transform(x_train)\n",
    "x_test=scaler.transform(x_test)"
   ]
  },
  {
   "cell_type": "code",
   "execution_count": 3,
   "id": "690ae4b3-15de-410b-bbd4-bd03f1778333",
   "metadata": {},
   "outputs": [],
   "source": [
    "from sklearn.linear_model import Ridge\n",
    "model = Ridge(alpha = 10)"
   ]
  },
  {
   "cell_type": "code",
   "execution_count": 5,
   "id": "a72550b6-1a37-4133-ac72-9a2aa9c261a3",
   "metadata": {},
   "outputs": [],
   "source": [
    "from sklearn.model_selection import cross_validate #for k fold cross validation "
   ]
  },
  {
   "cell_type": "code",
   "execution_count": 6,
   "id": "34b6c499-87ff-4995-bb82-673de43b4e99",
   "metadata": {},
   "outputs": [],
   "source": [
    "scores=cross_validate(model ,x_train,y_train,scoring=['neg_mean_squared_error','neg_mean_absolute_error'],cv=10) #cv=5 means 5 folds"
   ]
  },
  {
   "cell_type": "code",
   "execution_count": 7,
   "id": "86d7d9fe-7edf-42b5-89f2-501bc4a0de26",
   "metadata": {},
   "outputs": [],
   "source": [
    "scores =pd.DataFrame(scores)"
   ]
  },
  {
   "cell_type": "code",
   "execution_count": 8,
   "id": "8354ad7d-fbae-4711-a14a-63c85d2ac0e6",
   "metadata": {},
   "outputs": [
    {
     "data": {
      "text/html": [
       "<div>\n",
       "<style scoped>\n",
       "    .dataframe tbody tr th:only-of-type {\n",
       "        vertical-align: middle;\n",
       "    }\n",
       "\n",
       "    .dataframe tbody tr th {\n",
       "        vertical-align: top;\n",
       "    }\n",
       "\n",
       "    .dataframe thead th {\n",
       "        text-align: right;\n",
       "    }\n",
       "</style>\n",
       "<table border=\"1\" class=\"dataframe\">\n",
       "  <thead>\n",
       "    <tr style=\"text-align: right;\">\n",
       "      <th></th>\n",
       "      <th>fit_time</th>\n",
       "      <th>score_time</th>\n",
       "      <th>test_neg_mean_squared_error</th>\n",
       "      <th>test_neg_mean_absolute_error</th>\n",
       "    </tr>\n",
       "  </thead>\n",
       "  <tbody>\n",
       "    <tr>\n",
       "      <th>0</th>\n",
       "      <td>0.037702</td>\n",
       "      <td>0.002192</td>\n",
       "      <td>-2.931891</td>\n",
       "      <td>-1.463897</td>\n",
       "    </tr>\n",
       "    <tr>\n",
       "      <th>1</th>\n",
       "      <td>0.000000</td>\n",
       "      <td>0.000000</td>\n",
       "      <td>-3.520011</td>\n",
       "      <td>-1.571816</td>\n",
       "    </tr>\n",
       "    <tr>\n",
       "      <th>2</th>\n",
       "      <td>0.009403</td>\n",
       "      <td>0.000000</td>\n",
       "      <td>-1.889528</td>\n",
       "      <td>-1.176682</td>\n",
       "    </tr>\n",
       "    <tr>\n",
       "      <th>3</th>\n",
       "      <td>0.005511</td>\n",
       "      <td>0.000000</td>\n",
       "      <td>-0.861771</td>\n",
       "      <td>-0.835940</td>\n",
       "    </tr>\n",
       "    <tr>\n",
       "      <th>4</th>\n",
       "      <td>0.003134</td>\n",
       "      <td>0.000000</td>\n",
       "      <td>-3.840217</td>\n",
       "      <td>-1.574484</td>\n",
       "    </tr>\n",
       "    <tr>\n",
       "      <th>5</th>\n",
       "      <td>0.000000</td>\n",
       "      <td>0.000000</td>\n",
       "      <td>-8.489303</td>\n",
       "      <td>-1.565205</td>\n",
       "    </tr>\n",
       "    <tr>\n",
       "      <th>6</th>\n",
       "      <td>0.000000</td>\n",
       "      <td>0.012526</td>\n",
       "      <td>-1.669436</td>\n",
       "      <td>-0.975125</td>\n",
       "    </tr>\n",
       "    <tr>\n",
       "      <th>7</th>\n",
       "      <td>0.000000</td>\n",
       "      <td>0.000000</td>\n",
       "      <td>-2.959018</td>\n",
       "      <td>-1.191438</td>\n",
       "    </tr>\n",
       "    <tr>\n",
       "      <th>8</th>\n",
       "      <td>0.000000</td>\n",
       "      <td>0.000000</td>\n",
       "      <td>-5.284210</td>\n",
       "      <td>-1.650265</td>\n",
       "    </tr>\n",
       "    <tr>\n",
       "      <th>9</th>\n",
       "      <td>0.000000</td>\n",
       "      <td>0.000000</td>\n",
       "      <td>-2.945778</td>\n",
       "      <td>-1.250994</td>\n",
       "    </tr>\n",
       "  </tbody>\n",
       "</table>\n",
       "</div>"
      ],
      "text/plain": [
       "   fit_time  score_time  test_neg_mean_squared_error  \\\n",
       "0  0.037702    0.002192                    -2.931891   \n",
       "1  0.000000    0.000000                    -3.520011   \n",
       "2  0.009403    0.000000                    -1.889528   \n",
       "3  0.005511    0.000000                    -0.861771   \n",
       "4  0.003134    0.000000                    -3.840217   \n",
       "5  0.000000    0.000000                    -8.489303   \n",
       "6  0.000000    0.012526                    -1.669436   \n",
       "7  0.000000    0.000000                    -2.959018   \n",
       "8  0.000000    0.000000                    -5.284210   \n",
       "9  0.000000    0.000000                    -2.945778   \n",
       "\n",
       "   test_neg_mean_absolute_error  \n",
       "0                     -1.463897  \n",
       "1                     -1.571816  \n",
       "2                     -1.176682  \n",
       "3                     -0.835940  \n",
       "4                     -1.574484  \n",
       "5                     -1.565205  \n",
       "6                     -0.975125  \n",
       "7                     -1.191438  \n",
       "8                     -1.650265  \n",
       "9                     -1.250994  "
      ]
     },
     "execution_count": 8,
     "metadata": {},
     "output_type": "execute_result"
    }
   ],
   "source": [
    "scores"
   ]
  },
  {
   "cell_type": "code",
   "execution_count": 9,
   "id": "72bac121-f103-44fd-842f-58ad9dea2c88",
   "metadata": {},
   "outputs": [
    {
     "data": {
      "text/plain": [
       "fit_time                        0.005575\n",
       "score_time                      0.001472\n",
       "test_neg_mean_squared_error    -3.439116\n",
       "test_neg_mean_absolute_error   -1.325585\n",
       "dtype: float64"
      ]
     },
     "execution_count": 9,
     "metadata": {},
     "output_type": "execute_result"
    }
   ],
   "source": [
    "scores.mean()\n"
   ]
  },
  {
   "cell_type": "code",
   "execution_count": 10,
   "id": "5d1fbe33-4e4b-4eee-a8c0-1db7a718645c",
   "metadata": {},
   "outputs": [],
   "source": [
    "model = Ridge(alpha = 1)"
   ]
  },
  {
   "cell_type": "code",
   "execution_count": 11,
   "id": "0d4a09b7-0a00-4731-9162-65947af39931",
   "metadata": {},
   "outputs": [],
   "source": [
    "scores=cross_validate(model ,x_train,y_train,scoring=['neg_mean_squared_error','neg_mean_absolute_error'],cv=10) #cv=5 means 5 folds"
   ]
  },
  {
   "cell_type": "code",
   "execution_count": 13,
   "id": "25de15d4-c557-4f8d-83c4-20613a54b1ed",
   "metadata": {},
   "outputs": [
    {
     "data": {
      "text/plain": [
       "fit_time                        0.001766\n",
       "score_time                      0.003199\n",
       "test_neg_mean_squared_error    -3.323018\n",
       "test_neg_mean_absolute_error   -1.308467\n",
       "dtype: float64"
      ]
     },
     "execution_count": 13,
     "metadata": {},
     "output_type": "execute_result"
    }
   ],
   "source": [
    "scores =pd.DataFrame(scores)\n",
    "scores.mean()\n",
    "\n"
   ]
  },
  {
   "cell_type": "code",
   "execution_count": null,
   "id": "b437883b-7fe3-417e-923b-8201a78a3713",
   "metadata": {},
   "outputs": [],
   "source": []
  }
 ],
 "metadata": {
  "kernelspec": {
   "display_name": "Python 3 (ipykernel)",
   "language": "python",
   "name": "python3"
  },
  "language_info": {
   "codemirror_mode": {
    "name": "ipython",
    "version": 3
   },
   "file_extension": ".py",
   "mimetype": "text/x-python",
   "name": "python",
   "nbconvert_exporter": "python",
   "pygments_lexer": "ipython3",
   "version": "3.12.4"
  }
 },
 "nbformat": 4,
 "nbformat_minor": 5
}
